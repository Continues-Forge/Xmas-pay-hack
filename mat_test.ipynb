{
 "cells": [
  {
   "cell_type": "code",
   "execution_count": 16,
   "metadata": {},
   "outputs": [],
   "source": [
    "import numpy as np\n",
    "import matplotlib.pyplot as plt \n",
    "import pandas as pd\n",
    "import os\n",
    "import time"
   ]
  },
  {
   "cell_type": "code",
   "execution_count": 15,
   "metadata": {},
   "outputs": [],
   "source": [
    "providers_1 = pd.read_csv(\"data/providers_1.csv\")\n",
    "providers_2 = pd.read_csv(\"data/providers_2.csv\")\n",
    "\n",
    "payments_1 = pd.read_csv(\"data/payments_1.csv\")\n",
    "payments_2 = pd.read_csv(\"data/payments_2.csv\")\n",
    "\n",
    "payments_1.drop(columns=[\"cardToken\", \"payment\"], inplace=True)\n",
    "payments_2.drop(columns=[\"cardToken\", \"payment\"], inplace=True)\n",
    "\n",
    "\n"
   ]
  },
  {
   "cell_type": "code",
   "execution_count": null,
   "metadata": {},
   "outputs": [],
   "source": [
    "class Algorythm:\n",
    "    def __init__(self, providers, payments):\n",
    "        self.payments = payments\n",
    "        self.providers = providers\n",
    "        \n",
    "    def apply_changes(self):\n",
    "        pass\n",
    "        \n",
    "    def run(self):\n",
    "        pass"
   ]
  }
 ],
 "metadata": {
  "kernelspec": {
   "display_name": "venv",
   "language": "python",
   "name": "python3"
  },
  "language_info": {
   "codemirror_mode": {
    "name": "ipython",
    "version": 3
   },
   "file_extension": ".py",
   "mimetype": "text/x-python",
   "name": "python",
   "nbconvert_exporter": "python",
   "pygments_lexer": "ipython3",
   "version": "3.12.8"
  }
 },
 "nbformat": 4,
 "nbformat_minor": 2
}

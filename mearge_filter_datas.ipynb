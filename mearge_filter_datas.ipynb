{
 "cells": [
  {
   "cell_type": "code",
   "id": "initial_id",
   "metadata": {
    "collapsed": true,
    "ExecuteTime": {
     "end_time": "2024-12-21T13:41:24.096671Z",
     "start_time": "2024-12-21T13:41:24.089526Z"
    }
   },
   "source": [
    "import pandas as pd\n",
    "from tqdm import tqdm"
   ],
   "outputs": [],
   "execution_count": 135
  },
  {
   "metadata": {
    "ExecuteTime": {
     "end_time": "2024-12-21T12:17:47.171297Z",
     "start_time": "2024-12-21T12:17:46.943058Z"
    }
   },
   "cell_type": "code",
   "source": [
    "df_payments = pd.DataFrame()\n",
    "df_providers = pd.DataFrame()\n",
    "df_ex_rates = pd.read_csv('data/ex_rates.csv')\n",
    "\n",
    "for i in range(1, 2):\n",
    "    payments_data = pd.read_csv(f'data/payments_{i}.csv')\n",
    "    providers_data = pd.read_csv(f'data/providers_{i}.csv')\n",
    "\n",
    "    df_payments = pd.concat([df_payments, payments_data], ignore_index=True)\n",
    "    df_providers = pd.concat([df_providers, providers_data], ignore_index=True)\n",
    "\n",
    "df_providers.drop(['LIMIT_BY_CARD'], axis=1, inplace=True)\n"
   ],
   "id": "803278c594d36b29",
   "outputs": [],
   "execution_count": 62
  },
  {
   "metadata": {
    "ExecuteTime": {
     "end_time": "2024-12-21T12:17:48.868642Z",
     "start_time": "2024-12-21T12:17:48.823006Z"
    }
   },
   "cell_type": "code",
   "source": "df_payments",
   "id": "dd9f2acdbb3233fc",
   "outputs": [
    {
     "data": {
      "text/plain": [
       "               eventTimeRes    amount  cur                           payment  \\\n",
       "0       2024-11-25 20:59:59  90000.00  UZS  7d1476c9f1eedcd4a2083cc399ec1c1b   \n",
       "1       2024-11-25 20:59:58   2700.00  RUB  6eb49e22afdd28083ff82cdff8068880   \n",
       "2       2024-11-25 20:59:58   2000.00  RUB  0e2705d1083b67f2c5ea12de3b7ab182   \n",
       "3       2024-11-25 20:59:58     27.27  AZN  c30b3850e85454145bcb0dda3d209d88   \n",
       "4       2024-11-25 20:59:58      8.00  AZN  4af690ba4eebb6d4782d9a3051dc58d2   \n",
       "...                     ...       ...  ...                               ...   \n",
       "193973  2024-11-24 21:00:01     90.00  BRL  f3adde51de36a39508d11d4bf4a98edc   \n",
       "193974  2024-11-24 21:00:01     36.00  BRL  d8a90bf2cc88aa672b30bf1b4959751a   \n",
       "193975  2024-11-24 21:00:01     35.00  BRL  90a88e0d5b6bfff12909878f265cc2f4   \n",
       "193976  2024-11-24 21:00:01    180.00  BRL  0ab79b6d41d6e887e84ec4a85ea33733   \n",
       "193977  2024-11-24 21:00:00    700.00  RUB  c77be33e8db2f5352ebbc0a1b3f10e3e   \n",
       "\n",
       "                               cardToken  \n",
       "0       7ba0e52864c29fe2fcc1977be1ffc8d5  \n",
       "1       774d551c9fff62fbac6c4ef424af0446  \n",
       "2       a3481a01b54d0c96dd44200389888bc6  \n",
       "3       61e3567ab56a79911fb7bcc0cc13db64  \n",
       "4       373e0a66a63b8661f10afd098c68aeab  \n",
       "...                                  ...  \n",
       "193973  336d5ebc5436534e61d16e63ddfca327  \n",
       "193974  336d5ebc5436534e61d16e63ddfca327  \n",
       "193975  336d5ebc5436534e61d16e63ddfca327  \n",
       "193976  336d5ebc5436534e61d16e63ddfca327  \n",
       "193977  336d5ebc5436534e61d16e63ddfca327  \n",
       "\n",
       "[193978 rows x 5 columns]"
      ],
      "text/html": [
       "<div>\n",
       "<style scoped>\n",
       "    .dataframe tbody tr th:only-of-type {\n",
       "        vertical-align: middle;\n",
       "    }\n",
       "\n",
       "    .dataframe tbody tr th {\n",
       "        vertical-align: top;\n",
       "    }\n",
       "\n",
       "    .dataframe thead th {\n",
       "        text-align: right;\n",
       "    }\n",
       "</style>\n",
       "<table border=\"1\" class=\"dataframe\">\n",
       "  <thead>\n",
       "    <tr style=\"text-align: right;\">\n",
       "      <th></th>\n",
       "      <th>eventTimeRes</th>\n",
       "      <th>amount</th>\n",
       "      <th>cur</th>\n",
       "      <th>payment</th>\n",
       "      <th>cardToken</th>\n",
       "    </tr>\n",
       "  </thead>\n",
       "  <tbody>\n",
       "    <tr>\n",
       "      <th>0</th>\n",
       "      <td>2024-11-25 20:59:59</td>\n",
       "      <td>90000.00</td>\n",
       "      <td>UZS</td>\n",
       "      <td>7d1476c9f1eedcd4a2083cc399ec1c1b</td>\n",
       "      <td>7ba0e52864c29fe2fcc1977be1ffc8d5</td>\n",
       "    </tr>\n",
       "    <tr>\n",
       "      <th>1</th>\n",
       "      <td>2024-11-25 20:59:58</td>\n",
       "      <td>2700.00</td>\n",
       "      <td>RUB</td>\n",
       "      <td>6eb49e22afdd28083ff82cdff8068880</td>\n",
       "      <td>774d551c9fff62fbac6c4ef424af0446</td>\n",
       "    </tr>\n",
       "    <tr>\n",
       "      <th>2</th>\n",
       "      <td>2024-11-25 20:59:58</td>\n",
       "      <td>2000.00</td>\n",
       "      <td>RUB</td>\n",
       "      <td>0e2705d1083b67f2c5ea12de3b7ab182</td>\n",
       "      <td>a3481a01b54d0c96dd44200389888bc6</td>\n",
       "    </tr>\n",
       "    <tr>\n",
       "      <th>3</th>\n",
       "      <td>2024-11-25 20:59:58</td>\n",
       "      <td>27.27</td>\n",
       "      <td>AZN</td>\n",
       "      <td>c30b3850e85454145bcb0dda3d209d88</td>\n",
       "      <td>61e3567ab56a79911fb7bcc0cc13db64</td>\n",
       "    </tr>\n",
       "    <tr>\n",
       "      <th>4</th>\n",
       "      <td>2024-11-25 20:59:58</td>\n",
       "      <td>8.00</td>\n",
       "      <td>AZN</td>\n",
       "      <td>4af690ba4eebb6d4782d9a3051dc58d2</td>\n",
       "      <td>373e0a66a63b8661f10afd098c68aeab</td>\n",
       "    </tr>\n",
       "    <tr>\n",
       "      <th>...</th>\n",
       "      <td>...</td>\n",
       "      <td>...</td>\n",
       "      <td>...</td>\n",
       "      <td>...</td>\n",
       "      <td>...</td>\n",
       "    </tr>\n",
       "    <tr>\n",
       "      <th>193973</th>\n",
       "      <td>2024-11-24 21:00:01</td>\n",
       "      <td>90.00</td>\n",
       "      <td>BRL</td>\n",
       "      <td>f3adde51de36a39508d11d4bf4a98edc</td>\n",
       "      <td>336d5ebc5436534e61d16e63ddfca327</td>\n",
       "    </tr>\n",
       "    <tr>\n",
       "      <th>193974</th>\n",
       "      <td>2024-11-24 21:00:01</td>\n",
       "      <td>36.00</td>\n",
       "      <td>BRL</td>\n",
       "      <td>d8a90bf2cc88aa672b30bf1b4959751a</td>\n",
       "      <td>336d5ebc5436534e61d16e63ddfca327</td>\n",
       "    </tr>\n",
       "    <tr>\n",
       "      <th>193975</th>\n",
       "      <td>2024-11-24 21:00:01</td>\n",
       "      <td>35.00</td>\n",
       "      <td>BRL</td>\n",
       "      <td>90a88e0d5b6bfff12909878f265cc2f4</td>\n",
       "      <td>336d5ebc5436534e61d16e63ddfca327</td>\n",
       "    </tr>\n",
       "    <tr>\n",
       "      <th>193976</th>\n",
       "      <td>2024-11-24 21:00:01</td>\n",
       "      <td>180.00</td>\n",
       "      <td>BRL</td>\n",
       "      <td>0ab79b6d41d6e887e84ec4a85ea33733</td>\n",
       "      <td>336d5ebc5436534e61d16e63ddfca327</td>\n",
       "    </tr>\n",
       "    <tr>\n",
       "      <th>193977</th>\n",
       "      <td>2024-11-24 21:00:00</td>\n",
       "      <td>700.00</td>\n",
       "      <td>RUB</td>\n",
       "      <td>c77be33e8db2f5352ebbc0a1b3f10e3e</td>\n",
       "      <td>336d5ebc5436534e61d16e63ddfca327</td>\n",
       "    </tr>\n",
       "  </tbody>\n",
       "</table>\n",
       "<p>193978 rows × 5 columns</p>\n",
       "</div>"
      ]
     },
     "execution_count": 63,
     "metadata": {},
     "output_type": "execute_result"
    }
   ],
   "execution_count": 63
  },
  {
   "metadata": {
    "ExecuteTime": {
     "end_time": "2024-12-21T12:17:51.577968Z",
     "start_time": "2024-12-21T12:17:51.545802Z"
    }
   },
   "cell_type": "code",
   "source": "df_providers",
   "id": "2c5ae181256a7a17",
   "outputs": [
    {
     "data": {
      "text/plain": [
       "                    TIME  ID  CONVERSION  AVG_TIME  MIN_SUM  MAX_SUM  \\\n",
       "0    2024-11-24 21:00:00   0        0.50      18.0    700.0   5500.0   \n",
       "1    2024-11-24 21:00:00   1        0.65       8.0    900.0   9000.0   \n",
       "2    2024-11-24 21:00:00   2        0.50      18.0    400.0   8500.0   \n",
       "3    2024-11-24 21:00:00   3        0.50      16.0    900.0   6000.0   \n",
       "4    2024-11-24 21:00:00   4        0.70      26.0    300.0   6500.0   \n",
       "..                   ...  ..         ...       ...      ...      ...   \n",
       "506  2024-11-25 21:00:00  29        0.50       8.0    200.0   8500.0   \n",
       "507  2024-11-25 21:00:00  32        0.50      20.0    800.0   9500.0   \n",
       "508  2024-11-25 21:00:00  36        0.50      14.0    300.0   6000.0   \n",
       "509  2024-11-25 21:00:00  38        0.50      24.0    800.0   4500.0   \n",
       "510  2024-11-25 21:00:00  44        0.75      12.0    800.0   8500.0   \n",
       "\n",
       "     LIMIT_MIN   LIMIT_MAX  COMMISSION CURRENCY  \n",
       "0      61000.0  12900000.0       0.035      UZS  \n",
       "1      21000.0  18000000.0       0.035      UZS  \n",
       "2      51000.0  13400000.0       0.030      RUB  \n",
       "3      61000.0  19800000.0       0.045      RUB  \n",
       "4      81000.0  23600000.0       0.050      RUB  \n",
       "..         ...         ...         ...      ...  \n",
       "506    41000.0  18200000.0       0.035      USD  \n",
       "507     1000.0   9800000.0       0.035      USD  \n",
       "508    21000.0   9900000.0       0.050      GHS  \n",
       "509    21000.0  32700000.0       0.035      GHS  \n",
       "510    11000.0  36200000.0       0.040      PEN  \n",
       "\n",
       "[511 rows x 10 columns]"
      ],
      "text/html": [
       "<div>\n",
       "<style scoped>\n",
       "    .dataframe tbody tr th:only-of-type {\n",
       "        vertical-align: middle;\n",
       "    }\n",
       "\n",
       "    .dataframe tbody tr th {\n",
       "        vertical-align: top;\n",
       "    }\n",
       "\n",
       "    .dataframe thead th {\n",
       "        text-align: right;\n",
       "    }\n",
       "</style>\n",
       "<table border=\"1\" class=\"dataframe\">\n",
       "  <thead>\n",
       "    <tr style=\"text-align: right;\">\n",
       "      <th></th>\n",
       "      <th>TIME</th>\n",
       "      <th>ID</th>\n",
       "      <th>CONVERSION</th>\n",
       "      <th>AVG_TIME</th>\n",
       "      <th>MIN_SUM</th>\n",
       "      <th>MAX_SUM</th>\n",
       "      <th>LIMIT_MIN</th>\n",
       "      <th>LIMIT_MAX</th>\n",
       "      <th>COMMISSION</th>\n",
       "      <th>CURRENCY</th>\n",
       "    </tr>\n",
       "  </thead>\n",
       "  <tbody>\n",
       "    <tr>\n",
       "      <th>0</th>\n",
       "      <td>2024-11-24 21:00:00</td>\n",
       "      <td>0</td>\n",
       "      <td>0.50</td>\n",
       "      <td>18.0</td>\n",
       "      <td>700.0</td>\n",
       "      <td>5500.0</td>\n",
       "      <td>61000.0</td>\n",
       "      <td>12900000.0</td>\n",
       "      <td>0.035</td>\n",
       "      <td>UZS</td>\n",
       "    </tr>\n",
       "    <tr>\n",
       "      <th>1</th>\n",
       "      <td>2024-11-24 21:00:00</td>\n",
       "      <td>1</td>\n",
       "      <td>0.65</td>\n",
       "      <td>8.0</td>\n",
       "      <td>900.0</td>\n",
       "      <td>9000.0</td>\n",
       "      <td>21000.0</td>\n",
       "      <td>18000000.0</td>\n",
       "      <td>0.035</td>\n",
       "      <td>UZS</td>\n",
       "    </tr>\n",
       "    <tr>\n",
       "      <th>2</th>\n",
       "      <td>2024-11-24 21:00:00</td>\n",
       "      <td>2</td>\n",
       "      <td>0.50</td>\n",
       "      <td>18.0</td>\n",
       "      <td>400.0</td>\n",
       "      <td>8500.0</td>\n",
       "      <td>51000.0</td>\n",
       "      <td>13400000.0</td>\n",
       "      <td>0.030</td>\n",
       "      <td>RUB</td>\n",
       "    </tr>\n",
       "    <tr>\n",
       "      <th>3</th>\n",
       "      <td>2024-11-24 21:00:00</td>\n",
       "      <td>3</td>\n",
       "      <td>0.50</td>\n",
       "      <td>16.0</td>\n",
       "      <td>900.0</td>\n",
       "      <td>6000.0</td>\n",
       "      <td>61000.0</td>\n",
       "      <td>19800000.0</td>\n",
       "      <td>0.045</td>\n",
       "      <td>RUB</td>\n",
       "    </tr>\n",
       "    <tr>\n",
       "      <th>4</th>\n",
       "      <td>2024-11-24 21:00:00</td>\n",
       "      <td>4</td>\n",
       "      <td>0.70</td>\n",
       "      <td>26.0</td>\n",
       "      <td>300.0</td>\n",
       "      <td>6500.0</td>\n",
       "      <td>81000.0</td>\n",
       "      <td>23600000.0</td>\n",
       "      <td>0.050</td>\n",
       "      <td>RUB</td>\n",
       "    </tr>\n",
       "    <tr>\n",
       "      <th>...</th>\n",
       "      <td>...</td>\n",
       "      <td>...</td>\n",
       "      <td>...</td>\n",
       "      <td>...</td>\n",
       "      <td>...</td>\n",
       "      <td>...</td>\n",
       "      <td>...</td>\n",
       "      <td>...</td>\n",
       "      <td>...</td>\n",
       "      <td>...</td>\n",
       "    </tr>\n",
       "    <tr>\n",
       "      <th>506</th>\n",
       "      <td>2024-11-25 21:00:00</td>\n",
       "      <td>29</td>\n",
       "      <td>0.50</td>\n",
       "      <td>8.0</td>\n",
       "      <td>200.0</td>\n",
       "      <td>8500.0</td>\n",
       "      <td>41000.0</td>\n",
       "      <td>18200000.0</td>\n",
       "      <td>0.035</td>\n",
       "      <td>USD</td>\n",
       "    </tr>\n",
       "    <tr>\n",
       "      <th>507</th>\n",
       "      <td>2024-11-25 21:00:00</td>\n",
       "      <td>32</td>\n",
       "      <td>0.50</td>\n",
       "      <td>20.0</td>\n",
       "      <td>800.0</td>\n",
       "      <td>9500.0</td>\n",
       "      <td>1000.0</td>\n",
       "      <td>9800000.0</td>\n",
       "      <td>0.035</td>\n",
       "      <td>USD</td>\n",
       "    </tr>\n",
       "    <tr>\n",
       "      <th>508</th>\n",
       "      <td>2024-11-25 21:00:00</td>\n",
       "      <td>36</td>\n",
       "      <td>0.50</td>\n",
       "      <td>14.0</td>\n",
       "      <td>300.0</td>\n",
       "      <td>6000.0</td>\n",
       "      <td>21000.0</td>\n",
       "      <td>9900000.0</td>\n",
       "      <td>0.050</td>\n",
       "      <td>GHS</td>\n",
       "    </tr>\n",
       "    <tr>\n",
       "      <th>509</th>\n",
       "      <td>2024-11-25 21:00:00</td>\n",
       "      <td>38</td>\n",
       "      <td>0.50</td>\n",
       "      <td>24.0</td>\n",
       "      <td>800.0</td>\n",
       "      <td>4500.0</td>\n",
       "      <td>21000.0</td>\n",
       "      <td>32700000.0</td>\n",
       "      <td>0.035</td>\n",
       "      <td>GHS</td>\n",
       "    </tr>\n",
       "    <tr>\n",
       "      <th>510</th>\n",
       "      <td>2024-11-25 21:00:00</td>\n",
       "      <td>44</td>\n",
       "      <td>0.75</td>\n",
       "      <td>12.0</td>\n",
       "      <td>800.0</td>\n",
       "      <td>8500.0</td>\n",
       "      <td>11000.0</td>\n",
       "      <td>36200000.0</td>\n",
       "      <td>0.040</td>\n",
       "      <td>PEN</td>\n",
       "    </tr>\n",
       "  </tbody>\n",
       "</table>\n",
       "<p>511 rows × 10 columns</p>\n",
       "</div>"
      ]
     },
     "execution_count": 64,
     "metadata": {},
     "output_type": "execute_result"
    }
   ],
   "execution_count": 64
  },
  {
   "metadata": {
    "ExecuteTime": {
     "end_time": "2024-12-21T12:17:52.154413Z",
     "start_time": "2024-12-21T12:17:52.110840Z"
    }
   },
   "cell_type": "code",
   "source": "df_payments['amount'].describe()",
   "id": "95285ad8f5858ef6",
   "outputs": [
    {
     "data": {
      "text/plain": [
       "count    1.939780e+05\n",
       "mean     5.946773e+04\n",
       "std      7.840276e+05\n",
       "min      7.000000e-01\n",
       "25%      9.000000e+01\n",
       "50%      1.845000e+03\n",
       "75%      2.000000e+04\n",
       "max      2.070001e+08\n",
       "Name: amount, dtype: float64"
      ]
     },
     "execution_count": 65,
     "metadata": {},
     "output_type": "execute_result"
    }
   ],
   "execution_count": 65
  },
  {
   "metadata": {
    "ExecuteTime": {
     "end_time": "2024-12-21T12:17:52.799785Z",
     "start_time": "2024-12-21T12:17:52.792317Z"
    }
   },
   "cell_type": "code",
   "source": "df_payments.iloc[0]",
   "id": "f547bc61646d961",
   "outputs": [
    {
     "data": {
      "text/plain": [
       "eventTimeRes                 2024-11-25 20:59:59\n",
       "amount                                   90000.0\n",
       "cur                                          UZS\n",
       "payment         7d1476c9f1eedcd4a2083cc399ec1c1b\n",
       "cardToken       7ba0e52864c29fe2fcc1977be1ffc8d5\n",
       "Name: 0, dtype: object"
      ]
     },
     "execution_count": 66,
     "metadata": {},
     "output_type": "execute_result"
    }
   ],
   "execution_count": 66
  },
  {
   "metadata": {
    "ExecuteTime": {
     "end_time": "2024-12-21T12:17:54.161393Z",
     "start_time": "2024-12-21T12:17:54.069168Z"
    }
   },
   "cell_type": "code",
   "source": [
    "a = dict(df_ex_rates.values)\n",
    "a = dict((v, k) for k, v in a.items())\n",
    "\n",
    "df_payments['amount_in_USD'] = df_payments['cur'].map(lambda x: a[x]) * df_payments['amount']\n",
    "\n",
    "df_providers = df_providers.rename(columns={'CURRENCY': 'cur'})\n",
    "df_providers['MIN_SUM_in_USD'] = df_providers['cur'].map(lambda x: a[x]) * df_providers['MIN_SUM']\n",
    "df_providers['MAX_SUM_in_USD'] = df_providers['cur'].map(lambda x: a[x]) * df_providers['MAX_SUM']\n",
    "df_providers['LIMIT_MIN_in_USD'] = df_providers['cur'].map(lambda x: a[x]) * df_providers['LIMIT_MIN']\n",
    "df_providers['LIMIT_MAX_in_USD'] = df_providers['cur'].map(lambda x: a[x]) * df_providers['LIMIT_MAX']"
   ],
   "id": "8ebf21619531a34f",
   "outputs": [],
   "execution_count": 67
  },
  {
   "metadata": {
    "ExecuteTime": {
     "end_time": "2024-12-21T12:17:54.953617Z",
     "start_time": "2024-12-21T12:17:54.927938Z"
    }
   },
   "cell_type": "code",
   "source": "df_payments['amount_in_USD'].describe()",
   "id": "de52b84380b340e3",
   "outputs": [
    {
     "data": {
      "text/plain": [
       "count    193978.000000\n",
       "mean         21.409089\n",
       "std          79.056895\n",
       "min           0.008628\n",
       "25%           4.137192\n",
       "50%           7.800000\n",
       "75%          17.299741\n",
       "max       16146.003931\n",
       "Name: amount_in_USD, dtype: float64"
      ]
     },
     "execution_count": 68,
     "metadata": {},
     "output_type": "execute_result"
    }
   ],
   "execution_count": 68
  },
  {
   "metadata": {
    "ExecuteTime": {
     "end_time": "2024-12-21T12:18:35.457502Z",
     "start_time": "2024-12-21T12:18:35.433944Z"
    }
   },
   "cell_type": "code",
   "source": "df_providers['MAX_SUM_in_USD'].describe()",
   "id": "d350508f5b27891f",
   "outputs": [
    {
     "data": {
      "text/plain": [
       "count     511.000000\n",
       "mean     1904.394975\n",
       "std      2442.746097\n",
       "min         0.273000\n",
       "25%       105.789500\n",
       "50%       671.436000\n",
       "75%      3000.000000\n",
       "max      9897.375500\n",
       "Name: MAX_SUM_in_USD, dtype: float64"
      ]
     },
     "execution_count": 71,
     "metadata": {},
     "output_type": "execute_result"
    }
   ],
   "execution_count": 71
  },
  {
   "metadata": {
    "ExecuteTime": {
     "end_time": "2024-12-21T12:20:54.420226Z",
     "start_time": "2024-12-21T12:20:54.414604Z"
    }
   },
   "cell_type": "code",
   "source": [
    "for i in df_payments:\n",
    "    print(i)"
   ],
   "id": "97b0d1e36c2a6ae1",
   "outputs": [
    {
     "name": "stdout",
     "output_type": "stream",
     "text": [
      "eventTimeRes\n",
      "amount\n",
      "cur\n",
      "payment\n",
      "cardToken\n",
      "amount_in_USD\n"
     ]
    }
   ],
   "execution_count": 72
  },
  {
   "metadata": {
    "ExecuteTime": {
     "end_time": "2024-12-21T13:01:43.942728Z",
     "start_time": "2024-12-21T13:01:43.873564Z"
    }
   },
   "cell_type": "code",
   "source": [
    "def set_lim_min_max(df_providers):\n",
    "    df_providers['TIME'] = pd.to_datetime(df_providers['TIME'])\n",
    "\n",
    "    df_providers['DATE'] = df_providers['TIME'].dt.date\n",
    "\n",
    "    first_entries = df_providers.groupby(['ID', 'DATE']).first().reset_index()\n",
    "    first_entries = first_entries[['ID', 'DATE', 'LIMIT_MIN_in_USD', 'LIMIT_MAX_in_USD']]\n",
    "\n",
    "    first_entries = first_entries.rename(\n",
    "        columns={'LIMIT_MIN_in_USD': 'FIRST_LIMIT_MIN', 'LIMIT_MAX_in_USD': 'FIRST_LIMIT_MAX'})\n",
    "\n",
    "    df_providers = df_providers.merge(first_entries, on=['ID', 'DATE'], how='left')\n",
    "\n",
    "    df_providers['LIMIT_MIN_in_USD'] = df_providers['FIRST_LIMIT_MIN']\n",
    "    df_providers['LIMIT_MAX_in_USD'] = df_providers['FIRST_LIMIT_MAX']\n",
    "\n",
    "    df_providers = df_providers.drop(columns=['FIRST_LIMIT_MIN', 'FIRST_LIMIT_MAX', 'DATE'])\n",
    "    return df_providers\n",
    "\n",
    "\n",
    "df_providers = set_lim_min_max(df_providers)"
   ],
   "id": "1d532c57522cae12",
   "outputs": [],
   "execution_count": 105
  },
  {
   "metadata": {
    "ExecuteTime": {
     "end_time": "2024-12-21T14:11:18.180216Z",
     "start_time": "2024-12-21T14:11:18.131134Z"
    }
   },
   "cell_type": "code",
   "source": "df_payments['TIME'] = pd.to_datetime(df_payments['eventTimeRes'])",
   "id": "2880600667cfcc2e",
   "outputs": [
    {
     "data": {
      "text/plain": [
       "20"
      ]
     },
     "execution_count": 161,
     "metadata": {},
     "output_type": "execute_result"
    }
   ],
   "execution_count": 161
  },
  {
   "metadata": {
    "ExecuteTime": {
     "end_time": "2024-12-21T14:30:25.675165Z",
     "start_time": "2024-12-21T14:29:55.795761Z"
    }
   },
   "cell_type": "code",
   "source": [
    "df_payments['TIME'] = pd.to_datetime(df_payments['TIME'])\n",
    "df_providers['TIME'] = pd.to_datetime(df_providers['TIME'])\n",
    "\n",
    "providers_by_cur = {cur: group.copy() for cur, group in df_providers.groupby('cur')}\n",
    "\n",
    "for i, row in tqdm(df_payments.iterrows()):\n",
    "    temp_providers = providers_by_cur[row['cur']]\n",
    "\n",
    "    temp_providers = temp_providers.copy()\n",
    "    temp_providers.loc[:, 'TIME_DIFF'] = (temp_providers['TIME'] - row['TIME'])\n",
    "\n",
    "    temp_providers = temp_providers[(temp_providers['TIME_DIFF'].dt.total_seconds() <= 0)]\n",
    "\n",
    "    min_time_diff = temp_providers['TIME_DIFF'].max()\n",
    "\n",
    "    closest_provider = temp_providers[\n",
    "        (temp_providers['TIME_DIFF'] == min_time_diff)]"
   ],
   "id": "c2787f5614ded1f9",
   "outputs": [
    {
     "name": "stderr",
     "output_type": "stream",
     "text": [
      "61288it [00:29, 2060.30it/s]\n"
     ]
    },
    {
     "ename": "KeyboardInterrupt",
     "evalue": "",
     "output_type": "error",
     "traceback": [
      "\u001B[0;31m---------------------------------------------------------------------------\u001B[0m",
      "\u001B[0;31mKeyError\u001B[0m                                  Traceback (most recent call last)",
      "File \u001B[0;32m/Library/Frameworks/Python.framework/Versions/3.12/lib/python3.12/site-packages/pandas/core/indexes/base.py:3805\u001B[0m, in \u001B[0;36mIndex.get_loc\u001B[0;34m(self, key)\u001B[0m\n\u001B[1;32m   3804\u001B[0m \u001B[38;5;28;01mtry\u001B[39;00m:\n\u001B[0;32m-> 3805\u001B[0m     \u001B[38;5;28;01mreturn\u001B[39;00m \u001B[38;5;28;43mself\u001B[39;49m\u001B[38;5;241;43m.\u001B[39;49m\u001B[43m_engine\u001B[49m\u001B[38;5;241;43m.\u001B[39;49m\u001B[43mget_loc\u001B[49m\u001B[43m(\u001B[49m\u001B[43mcasted_key\u001B[49m\u001B[43m)\u001B[49m\n\u001B[1;32m   3806\u001B[0m \u001B[38;5;28;01mexcept\u001B[39;00m \u001B[38;5;167;01mKeyError\u001B[39;00m \u001B[38;5;28;01mas\u001B[39;00m err:\n",
      "File \u001B[0;32mindex.pyx:167\u001B[0m, in \u001B[0;36mpandas._libs.index.IndexEngine.get_loc\u001B[0;34m()\u001B[0m\n",
      "File \u001B[0;32mindex.pyx:196\u001B[0m, in \u001B[0;36mpandas._libs.index.IndexEngine.get_loc\u001B[0;34m()\u001B[0m\n",
      "File \u001B[0;32mpandas/_libs/hashtable_class_helper.pxi:7081\u001B[0m, in \u001B[0;36mpandas._libs.hashtable.PyObjectHashTable.get_item\u001B[0;34m()\u001B[0m\n",
      "File \u001B[0;32mpandas/_libs/hashtable_class_helper.pxi:7089\u001B[0m, in \u001B[0;36mpandas._libs.hashtable.PyObjectHashTable.get_item\u001B[0;34m()\u001B[0m\n",
      "\u001B[0;31mKeyError\u001B[0m: 'TIME_DIFF'",
      "\nThe above exception was the direct cause of the following exception:\n",
      "\u001B[0;31mKeyError\u001B[0m                                  Traceback (most recent call last)",
      "File \u001B[0;32m/Library/Frameworks/Python.framework/Versions/3.12/lib/python3.12/site-packages/pandas/core/frame.py:4485\u001B[0m, in \u001B[0;36mDataFrame._set_item_mgr\u001B[0;34m(self, key, value, refs)\u001B[0m\n\u001B[1;32m   4484\u001B[0m \u001B[38;5;28;01mtry\u001B[39;00m:\n\u001B[0;32m-> 4485\u001B[0m     loc \u001B[38;5;241m=\u001B[39m \u001B[38;5;28;43mself\u001B[39;49m\u001B[38;5;241;43m.\u001B[39;49m\u001B[43m_info_axis\u001B[49m\u001B[38;5;241;43m.\u001B[39;49m\u001B[43mget_loc\u001B[49m\u001B[43m(\u001B[49m\u001B[43mkey\u001B[49m\u001B[43m)\u001B[49m\n\u001B[1;32m   4486\u001B[0m \u001B[38;5;28;01mexcept\u001B[39;00m \u001B[38;5;167;01mKeyError\u001B[39;00m:\n\u001B[1;32m   4487\u001B[0m     \u001B[38;5;66;03m# This item wasn't present, just insert at end\u001B[39;00m\n",
      "File \u001B[0;32m/Library/Frameworks/Python.framework/Versions/3.12/lib/python3.12/site-packages/pandas/core/indexes/base.py:3812\u001B[0m, in \u001B[0;36mIndex.get_loc\u001B[0;34m(self, key)\u001B[0m\n\u001B[1;32m   3811\u001B[0m         \u001B[38;5;28;01mraise\u001B[39;00m InvalidIndexError(key)\n\u001B[0;32m-> 3812\u001B[0m     \u001B[38;5;28;01mraise\u001B[39;00m \u001B[38;5;167;01mKeyError\u001B[39;00m(key) \u001B[38;5;28;01mfrom\u001B[39;00m \u001B[38;5;21;01merr\u001B[39;00m\n\u001B[1;32m   3813\u001B[0m \u001B[38;5;28;01mexcept\u001B[39;00m \u001B[38;5;167;01mTypeError\u001B[39;00m:\n\u001B[1;32m   3814\u001B[0m     \u001B[38;5;66;03m# If we have a listlike key, _check_indexing_error will raise\u001B[39;00m\n\u001B[1;32m   3815\u001B[0m     \u001B[38;5;66;03m#  InvalidIndexError. Otherwise we fall through and re-raise\u001B[39;00m\n\u001B[1;32m   3816\u001B[0m     \u001B[38;5;66;03m#  the TypeError.\u001B[39;00m\n",
      "\u001B[0;31mKeyError\u001B[0m: 'TIME_DIFF'",
      "\nDuring handling of the above exception, another exception occurred:\n",
      "\u001B[0;31mKeyboardInterrupt\u001B[0m                         Traceback (most recent call last)",
      "Cell \u001B[0;32mIn[188], line 10\u001B[0m\n\u001B[1;32m      7\u001B[0m temp_providers \u001B[38;5;241m=\u001B[39m providers_by_cur[row[\u001B[38;5;124m'\u001B[39m\u001B[38;5;124mcur\u001B[39m\u001B[38;5;124m'\u001B[39m]]\n\u001B[1;32m      9\u001B[0m temp_providers \u001B[38;5;241m=\u001B[39m temp_providers\u001B[38;5;241m.\u001B[39mcopy()\n\u001B[0;32m---> 10\u001B[0m \u001B[43mtemp_providers\u001B[49m\u001B[38;5;241;43m.\u001B[39;49m\u001B[43mloc\u001B[49m\u001B[43m[\u001B[49m\u001B[43m:\u001B[49m\u001B[43m,\u001B[49m\u001B[43m \u001B[49m\u001B[38;5;124;43m'\u001B[39;49m\u001B[38;5;124;43mTIME_DIFF\u001B[39;49m\u001B[38;5;124;43m'\u001B[39;49m\u001B[43m]\u001B[49m \u001B[38;5;241m=\u001B[39m (temp_providers[\u001B[38;5;124m'\u001B[39m\u001B[38;5;124mTIME\u001B[39m\u001B[38;5;124m'\u001B[39m] \u001B[38;5;241m-\u001B[39m row[\u001B[38;5;124m'\u001B[39m\u001B[38;5;124mTIME\u001B[39m\u001B[38;5;124m'\u001B[39m])\n\u001B[1;32m     12\u001B[0m temp_providers \u001B[38;5;241m=\u001B[39m temp_providers[(temp_providers[\u001B[38;5;124m'\u001B[39m\u001B[38;5;124mTIME_DIFF\u001B[39m\u001B[38;5;124m'\u001B[39m]\u001B[38;5;241m.\u001B[39mdt\u001B[38;5;241m.\u001B[39mtotal_seconds() \u001B[38;5;241m<\u001B[39m\u001B[38;5;241m=\u001B[39m \u001B[38;5;241m0\u001B[39m)]\n\u001B[1;32m     14\u001B[0m min_time_diff \u001B[38;5;241m=\u001B[39m temp_providers[\u001B[38;5;124m'\u001B[39m\u001B[38;5;124mTIME_DIFF\u001B[39m\u001B[38;5;124m'\u001B[39m]\u001B[38;5;241m.\u001B[39mmax()\n",
      "File \u001B[0;32m/Library/Frameworks/Python.framework/Versions/3.12/lib/python3.12/site-packages/pandas/core/indexing.py:911\u001B[0m, in \u001B[0;36m_LocationIndexer.__setitem__\u001B[0;34m(self, key, value)\u001B[0m\n\u001B[1;32m    908\u001B[0m \u001B[38;5;28mself\u001B[39m\u001B[38;5;241m.\u001B[39m_has_valid_setitem_indexer(key)\n\u001B[1;32m    910\u001B[0m iloc \u001B[38;5;241m=\u001B[39m \u001B[38;5;28mself\u001B[39m \u001B[38;5;28;01mif\u001B[39;00m \u001B[38;5;28mself\u001B[39m\u001B[38;5;241m.\u001B[39mname \u001B[38;5;241m==\u001B[39m \u001B[38;5;124m\"\u001B[39m\u001B[38;5;124miloc\u001B[39m\u001B[38;5;124m\"\u001B[39m \u001B[38;5;28;01melse\u001B[39;00m \u001B[38;5;28mself\u001B[39m\u001B[38;5;241m.\u001B[39mobj\u001B[38;5;241m.\u001B[39miloc\n\u001B[0;32m--> 911\u001B[0m \u001B[43miloc\u001B[49m\u001B[38;5;241;43m.\u001B[39;49m\u001B[43m_setitem_with_indexer\u001B[49m\u001B[43m(\u001B[49m\u001B[43mindexer\u001B[49m\u001B[43m,\u001B[49m\u001B[43m \u001B[49m\u001B[43mvalue\u001B[49m\u001B[43m,\u001B[49m\u001B[43m \u001B[49m\u001B[38;5;28;43mself\u001B[39;49m\u001B[38;5;241;43m.\u001B[39;49m\u001B[43mname\u001B[49m\u001B[43m)\u001B[49m\n",
      "File \u001B[0;32m/Library/Frameworks/Python.framework/Versions/3.12/lib/python3.12/site-packages/pandas/core/indexing.py:1857\u001B[0m, in \u001B[0;36m_iLocIndexer._setitem_with_indexer\u001B[0;34m(self, indexer, value, name)\u001B[0m\n\u001B[1;32m   1854\u001B[0m \u001B[38;5;66;03m# add a new item with the dtype setup\u001B[39;00m\n\u001B[1;32m   1855\u001B[0m \u001B[38;5;28;01mif\u001B[39;00m com\u001B[38;5;241m.\u001B[39mis_null_slice(indexer[\u001B[38;5;241m0\u001B[39m]):\n\u001B[1;32m   1856\u001B[0m     \u001B[38;5;66;03m# We are setting an entire column\u001B[39;00m\n\u001B[0;32m-> 1857\u001B[0m     \u001B[38;5;28;43mself\u001B[39;49m\u001B[38;5;241;43m.\u001B[39;49m\u001B[43mobj\u001B[49m\u001B[43m[\u001B[49m\u001B[43mkey\u001B[49m\u001B[43m]\u001B[49m \u001B[38;5;241m=\u001B[39m value\n\u001B[1;32m   1858\u001B[0m     \u001B[38;5;28;01mreturn\u001B[39;00m\n\u001B[1;32m   1859\u001B[0m \u001B[38;5;28;01melif\u001B[39;00m is_array_like(value):\n\u001B[1;32m   1860\u001B[0m     \u001B[38;5;66;03m# GH#42099\u001B[39;00m\n",
      "File \u001B[0;32m/Library/Frameworks/Python.framework/Versions/3.12/lib/python3.12/site-packages/pandas/core/frame.py:4311\u001B[0m, in \u001B[0;36mDataFrame.__setitem__\u001B[0;34m(self, key, value)\u001B[0m\n\u001B[1;32m   4308\u001B[0m     \u001B[38;5;28mself\u001B[39m\u001B[38;5;241m.\u001B[39m_setitem_array([key], value)\n\u001B[1;32m   4309\u001B[0m \u001B[38;5;28;01melse\u001B[39;00m:\n\u001B[1;32m   4310\u001B[0m     \u001B[38;5;66;03m# set column\u001B[39;00m\n\u001B[0;32m-> 4311\u001B[0m     \u001B[38;5;28;43mself\u001B[39;49m\u001B[38;5;241;43m.\u001B[39;49m\u001B[43m_set_item\u001B[49m\u001B[43m(\u001B[49m\u001B[43mkey\u001B[49m\u001B[43m,\u001B[49m\u001B[43m \u001B[49m\u001B[43mvalue\u001B[49m\u001B[43m)\u001B[49m\n",
      "File \u001B[0;32m/Library/Frameworks/Python.framework/Versions/3.12/lib/python3.12/site-packages/pandas/core/frame.py:4538\u001B[0m, in \u001B[0;36mDataFrame._set_item\u001B[0;34m(self, key, value)\u001B[0m\n\u001B[1;32m   4535\u001B[0m             value \u001B[38;5;241m=\u001B[39m np\u001B[38;5;241m.\u001B[39mtile(value, (\u001B[38;5;28mlen\u001B[39m(existing_piece\u001B[38;5;241m.\u001B[39mcolumns), \u001B[38;5;241m1\u001B[39m))\u001B[38;5;241m.\u001B[39mT\n\u001B[1;32m   4536\u001B[0m             refs \u001B[38;5;241m=\u001B[39m \u001B[38;5;28;01mNone\u001B[39;00m\n\u001B[0;32m-> 4538\u001B[0m \u001B[38;5;28;43mself\u001B[39;49m\u001B[38;5;241;43m.\u001B[39;49m\u001B[43m_set_item_mgr\u001B[49m\u001B[43m(\u001B[49m\u001B[43mkey\u001B[49m\u001B[43m,\u001B[49m\u001B[43m \u001B[49m\u001B[43mvalue\u001B[49m\u001B[43m,\u001B[49m\u001B[43m \u001B[49m\u001B[43mrefs\u001B[49m\u001B[43m)\u001B[49m\n",
      "File \u001B[0;32m/Library/Frameworks/Python.framework/Versions/3.12/lib/python3.12/site-packages/pandas/core/frame.py:4488\u001B[0m, in \u001B[0;36mDataFrame._set_item_mgr\u001B[0;34m(self, key, value, refs)\u001B[0m\n\u001B[1;32m   4485\u001B[0m     loc \u001B[38;5;241m=\u001B[39m \u001B[38;5;28mself\u001B[39m\u001B[38;5;241m.\u001B[39m_info_axis\u001B[38;5;241m.\u001B[39mget_loc(key)\n\u001B[1;32m   4486\u001B[0m \u001B[38;5;28;01mexcept\u001B[39;00m \u001B[38;5;167;01mKeyError\u001B[39;00m:\n\u001B[1;32m   4487\u001B[0m     \u001B[38;5;66;03m# This item wasn't present, just insert at end\u001B[39;00m\n\u001B[0;32m-> 4488\u001B[0m     \u001B[38;5;28;43mself\u001B[39;49m\u001B[38;5;241;43m.\u001B[39;49m\u001B[43m_mgr\u001B[49m\u001B[38;5;241;43m.\u001B[39;49m\u001B[43minsert\u001B[49m\u001B[43m(\u001B[49m\u001B[38;5;28;43mlen\u001B[39;49m\u001B[43m(\u001B[49m\u001B[38;5;28;43mself\u001B[39;49m\u001B[38;5;241;43m.\u001B[39;49m\u001B[43m_info_axis\u001B[49m\u001B[43m)\u001B[49m\u001B[43m,\u001B[49m\u001B[43m \u001B[49m\u001B[43mkey\u001B[49m\u001B[43m,\u001B[49m\u001B[43m \u001B[49m\u001B[43mvalue\u001B[49m\u001B[43m,\u001B[49m\u001B[43m \u001B[49m\u001B[43mrefs\u001B[49m\u001B[43m)\u001B[49m\n\u001B[1;32m   4489\u001B[0m \u001B[38;5;28;01melse\u001B[39;00m:\n\u001B[1;32m   4490\u001B[0m     \u001B[38;5;28mself\u001B[39m\u001B[38;5;241m.\u001B[39m_iset_item_mgr(loc, value, refs\u001B[38;5;241m=\u001B[39mrefs)\n",
      "File \u001B[0;32m/Library/Frameworks/Python.framework/Versions/3.12/lib/python3.12/site-packages/pandas/core/internals/managers.py:1384\u001B[0m, in \u001B[0;36mBlockManager.insert\u001B[0;34m(self, loc, item, value, refs)\u001B[0m\n\u001B[1;32m   1382\u001B[0m     \u001B[38;5;28mself\u001B[39m\u001B[38;5;241m.\u001B[39m_blknos \u001B[38;5;241m=\u001B[39m np\u001B[38;5;241m.\u001B[39marray([\u001B[38;5;241m0\u001B[39m], dtype\u001B[38;5;241m=\u001B[39mnp\u001B[38;5;241m.\u001B[39mintp)\n\u001B[1;32m   1383\u001B[0m \u001B[38;5;28;01melse\u001B[39;00m:\n\u001B[0;32m-> 1384\u001B[0m     \u001B[38;5;28;43mself\u001B[39;49m\u001B[38;5;241;43m.\u001B[39;49m\u001B[43m_insert_update_mgr_locs\u001B[49m\u001B[43m(\u001B[49m\u001B[43mloc\u001B[49m\u001B[43m)\u001B[49m\n\u001B[1;32m   1385\u001B[0m     \u001B[38;5;28mself\u001B[39m\u001B[38;5;241m.\u001B[39m_insert_update_blklocs_and_blknos(loc)\n\u001B[1;32m   1387\u001B[0m \u001B[38;5;28mself\u001B[39m\u001B[38;5;241m.\u001B[39maxes[\u001B[38;5;241m0\u001B[39m] \u001B[38;5;241m=\u001B[39m new_axis\n",
      "File \u001B[0;32m/Library/Frameworks/Python.framework/Versions/3.12/lib/python3.12/site-packages/pandas/core/internals/managers.py:1407\u001B[0m, in \u001B[0;36mBlockManager._insert_update_mgr_locs\u001B[0;34m(self, loc)\u001B[0m\n\u001B[1;32m   1402\u001B[0m \u001B[38;5;28;01mdef\u001B[39;00m \u001B[38;5;21m_insert_update_mgr_locs\u001B[39m(\u001B[38;5;28mself\u001B[39m, loc) \u001B[38;5;241m-\u001B[39m\u001B[38;5;241m>\u001B[39m \u001B[38;5;28;01mNone\u001B[39;00m:\n\u001B[1;32m   1403\u001B[0m \u001B[38;5;250m    \u001B[39m\u001B[38;5;124;03m\"\"\"\u001B[39;00m\n\u001B[1;32m   1404\u001B[0m \u001B[38;5;124;03m    When inserting a new Block at location 'loc', we increment\u001B[39;00m\n\u001B[1;32m   1405\u001B[0m \u001B[38;5;124;03m    all of the mgr_locs of blocks above that by one.\u001B[39;00m\n\u001B[1;32m   1406\u001B[0m \u001B[38;5;124;03m    \"\"\"\u001B[39;00m\n\u001B[0;32m-> 1407\u001B[0m     \u001B[38;5;28;01mfor\u001B[39;00m blkno, count \u001B[38;5;129;01min\u001B[39;00m \u001B[43m_fast_count_smallints\u001B[49m\u001B[43m(\u001B[49m\u001B[38;5;28;43mself\u001B[39;49m\u001B[38;5;241;43m.\u001B[39;49m\u001B[43mblknos\u001B[49m\u001B[43m[\u001B[49m\u001B[43mloc\u001B[49m\u001B[43m:\u001B[49m\u001B[43m]\u001B[49m\u001B[43m)\u001B[49m:\n\u001B[1;32m   1408\u001B[0m         \u001B[38;5;66;03m# .620 this way, .326 of which is in increment_above\u001B[39;00m\n\u001B[1;32m   1409\u001B[0m         blk \u001B[38;5;241m=\u001B[39m \u001B[38;5;28mself\u001B[39m\u001B[38;5;241m.\u001B[39mblocks[blkno]\n\u001B[1;32m   1410\u001B[0m         blk\u001B[38;5;241m.\u001B[39m_mgr_locs \u001B[38;5;241m=\u001B[39m blk\u001B[38;5;241m.\u001B[39m_mgr_locs\u001B[38;5;241m.\u001B[39mincrement_above(loc)\n",
      "File \u001B[0;32m/Library/Frameworks/Python.framework/Versions/3.12/lib/python3.12/site-packages/pandas/core/internals/managers.py:2314\u001B[0m, in \u001B[0;36m_fast_count_smallints\u001B[0;34m(arr)\u001B[0m\n\u001B[1;32m   2312\u001B[0m \u001B[38;5;250m\u001B[39m\u001B[38;5;124;03m\"\"\"Faster version of set(arr) for sequences of small numbers.\"\"\"\u001B[39;00m\n\u001B[1;32m   2313\u001B[0m counts \u001B[38;5;241m=\u001B[39m np\u001B[38;5;241m.\u001B[39mbincount(arr)\n\u001B[0;32m-> 2314\u001B[0m nz \u001B[38;5;241m=\u001B[39m \u001B[43mcounts\u001B[49m\u001B[38;5;241;43m.\u001B[39;49m\u001B[43mnonzero\u001B[49m\u001B[43m(\u001B[49m\u001B[43m)\u001B[49m[\u001B[38;5;241m0\u001B[39m]\n\u001B[1;32m   2315\u001B[0m \u001B[38;5;66;03m# Note: list(zip(...) outperforms list(np.c_[nz, counts[nz]]) here,\u001B[39;00m\n\u001B[1;32m   2316\u001B[0m \u001B[38;5;66;03m#  in one benchmark by a factor of 11\u001B[39;00m\n\u001B[1;32m   2317\u001B[0m \u001B[38;5;28;01mreturn\u001B[39;00m \u001B[38;5;28mzip\u001B[39m(nz, counts[nz])\n",
      "\u001B[0;31mKeyboardInterrupt\u001B[0m: "
     ]
    }
   ],
   "execution_count": 188
  },
  {
   "metadata": {
    "ExecuteTime": {
     "end_time": "2024-12-21T14:18:19.579789Z",
     "start_time": "2024-12-21T14:18:19.576270Z"
    }
   },
   "cell_type": "code",
   "source": "",
   "id": "90b0050b09413d16",
   "outputs": [],
   "execution_count": null
  },
  {
   "metadata": {},
   "cell_type": "code",
   "outputs": [],
   "execution_count": null,
   "source": "",
   "id": "3b339674fc8105c9"
  }
 ],
 "metadata": {
  "kernelspec": {
   "display_name": "Python 3",
   "language": "python",
   "name": "python3"
  },
  "language_info": {
   "codemirror_mode": {
    "name": "ipython",
    "version": 2
   },
   "file_extension": ".py",
   "mimetype": "text/x-python",
   "name": "python",
   "nbconvert_exporter": "python",
   "pygments_lexer": "ipython2",
   "version": "2.7.6"
  }
 },
 "nbformat": 4,
 "nbformat_minor": 5
}
